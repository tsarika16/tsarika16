{
 "cells": [
  {
   "cell_type": "markdown",
   "id": "bcafbc1f",
   "metadata": {},
   "source": [
    "11. Write a python program to find the factorial of a number. "
   ]
  },
  {
   "cell_type": "code",
   "execution_count": 1,
   "id": "c5f992ab",
   "metadata": {},
   "outputs": [
    {
     "name": "stdout",
     "output_type": "stream",
     "text": [
      "Factorial of 10 is 3628800\n"
     ]
    }
   ],
   "source": [
    "import math\n",
    "\n",
    "def factorial (x):\n",
    "    return(math.factorial (x))\n",
    "\n",
    "num = 10\n",
    "print(\"Factorial of\", num , \"is\", factorial (num))"
   ]
  },
  {
   "cell_type": "markdown",
   "id": "e881ab60",
   "metadata": {},
   "source": [
    "12. Write a python program to find whether a number is prime or composite. "
   ]
  },
  {
   "cell_type": "code",
   "execution_count": 2,
   "id": "b4c3ff6d",
   "metadata": {},
   "outputs": [
    {
     "name": "stdout",
     "output_type": "stream",
     "text": [
      "Enter any number:8\n",
      "8 is composite number\n"
     ]
    }
   ],
   "source": [
    "x=int(input(\"Enter any number:\"))\n",
    "if(x==0 or x==1):\n",
    "    print(x,\"Number is neither prime nor composite\")\n",
    "elif x>1:\n",
    "    for i in range(2,x):\n",
    "        if(x%i==0):\n",
    "            print(x,\"is composite number\")\n",
    "            break\n",
    "    else:\n",
    "        print(x,\"number is prime number\")"
   ]
  },
  {
   "cell_type": "code",
   "execution_count": 3,
   "id": "03687c1c",
   "metadata": {},
   "outputs": [
    {
     "name": "stdout",
     "output_type": "stream",
     "text": [
      "Enter any number:7\n",
      "7 number is prime number\n"
     ]
    }
   ],
   "source": [
    "x=int(input(\"Enter any number:\"))\n",
    "if(x==0 or x==1):\n",
    "    print(x,\"Number is neither prime nor composite\")\n",
    "elif x>1:\n",
    "    for i in range(2,x):\n",
    "        if(x%i==0):\n",
    "            print(x,\"is composite number\")\n",
    "            break\n",
    "    else:\n",
    "        print(x,\"number is prime number\")"
   ]
  },
  {
   "cell_type": "markdown",
   "id": "6243b0cb",
   "metadata": {},
   "source": [
    "13. Write a python program to check whether a given string is palindrome or not."
   ]
  },
  {
   "cell_type": "code",
   "execution_count": 4,
   "id": "1a250bab",
   "metadata": {},
   "outputs": [
    {
     "name": "stdout",
     "output_type": "stream",
     "text": [
      "Enter String Sarika\n",
      "The string is not palindrome\n"
     ]
    }
   ],
   "source": [
    "str1=input(\"Enter String \")\n",
    "str1=str1.casefold()\n",
    "\n",
    "rev_str=reversed(str1)\n",
    "if (str1)==(rev_str):\n",
    "    print(\"The string is palindrome\")\n",
    "else:\n",
    "    print(\"The string is not palindrome\")\n"
   ]
  },
  {
   "cell_type": "markdown",
   "id": "78c5f7f5",
   "metadata": {},
   "source": [
    "14. Write a Python program to get the third side of right-angled triangle from two given sides. "
   ]
  },
  {
   "cell_type": "code",
   "execution_count": 5,
   "id": "f3282a80",
   "metadata": {},
   "outputs": [
    {
     "name": "stdout",
     "output_type": "stream",
     "text": [
      "Enter base: 40\n",
      "Enter height: 60\n",
      "Hypotenuse = 72.11102550927978\n"
     ]
    }
   ],
   "source": [
    "side1=float(input(\"Enter base: \"))\n",
    "side2=float(input(\"Enter height: \"))\n",
    "\n",
    "side3=math.sqrt(side1**2 + side2 **2)\n",
    "print(\"Hypotenuse =\", side3)"
   ]
  },
  {
   "cell_type": "markdown",
   "id": "8787ffe1",
   "metadata": {},
   "source": [
    "15. Write a python program to print the frequency of each of the characters present in a given string "
   ]
  },
  {
   "cell_type": "code",
   "execution_count": 6,
   "id": "addbeb45",
   "metadata": {},
   "outputs": [
    {
     "name": "stdout",
     "output_type": "stream",
     "text": [
      "Enter the stringFirst Worksheet\n",
      "{'F': 1, 'i': 1, 'r': 2, 's': 2, 't': 2, ' ': 1, 'W': 1, 'o': 1, 'k': 1, 'h': 1, 'e': 2}\n"
     ]
    }
   ],
   "source": [
    "str=input(\"Enter the string\")\n",
    "d=dict( )\n",
    "\n",
    "for i in str:\n",
    "    if i in d:\n",
    "        d[ i ]=d[ i ]+1\n",
    "    else:\n",
    "        d[ i ]=1\n",
    "print(d)"
   ]
  },
  {
   "cell_type": "code",
   "execution_count": null,
   "id": "1f5a0c3c",
   "metadata": {},
   "outputs": [],
   "source": []
  }
 ],
 "metadata": {
  "kernelspec": {
   "display_name": "Python 3 (ipykernel)",
   "language": "python",
   "name": "python3"
  },
  "language_info": {
   "codemirror_mode": {
    "name": "ipython",
    "version": 3
   },
   "file_extension": ".py",
   "mimetype": "text/x-python",
   "name": "python",
   "nbconvert_exporter": "python",
   "pygments_lexer": "ipython3",
   "version": "3.9.7"
  }
 },
 "nbformat": 4,
 "nbformat_minor": 5
}
